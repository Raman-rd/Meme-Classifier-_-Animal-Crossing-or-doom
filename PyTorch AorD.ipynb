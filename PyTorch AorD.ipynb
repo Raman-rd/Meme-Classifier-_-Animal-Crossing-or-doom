{
 "cells": [
  {
   "cell_type": "code",
   "execution_count": 151,
   "metadata": {},
   "outputs": [],
   "source": [
    "import torch\n",
    "import torch.nn as nn\n",
    "import torch.nn.functional as F\n",
    "from torch.utils.data import DataLoader\n",
    "from torchvision import datasets, transforms, models # add models to the list\n",
    "from torchvision.utils import make_grid\n",
    "import os\n",
    "import numpy as np\n",
    "import pandas as pd\n",
    "import matplotlib.pyplot as plt\n",
    "%matplotlib inline\n",
    "\n",
    "# ignore harmless warnings\n",
    "import warnings\n",
    "warnings.filterwarnings(\"ignore\")"
   ]
  },
  {
   "cell_type": "code",
   "execution_count": 152,
   "metadata": {},
   "outputs": [],
   "source": [
    "### define transforms\n",
    "train_transform = transforms.Compose([\n",
    "    transforms.RandomRotation(10),\n",
    "    transforms.RandomHorizontalFlip(),\n",
    "    transforms.Resize((224,224)),\n",
    "    transforms.CenterCrop(224),\n",
    "    transforms.ToTensor(),\n",
    "    transforms.Normalize([0.485, 0.456, 0.406],\n",
    "                        [0.229, 0.224, 0.225])\n",
    "])"
   ]
  },
  {
   "cell_type": "code",
   "execution_count": 153,
   "metadata": {},
   "outputs": [],
   "source": [
    "### define transforms\n",
    "test_transform = transforms.Compose([\n",
    "    transforms.Resize((224,224)),\n",
    "    transforms.CenterCrop(224),\n",
    "    transforms.ToTensor(),\n",
    "    transforms.Normalize([0.485, 0.456, 0.406],\n",
    "                        [0.229, 0.224, 0.225])\n",
    "])"
   ]
  },
  {
   "cell_type": "code",
   "execution_count": 154,
   "metadata": {},
   "outputs": [
    {
     "name": "stdout",
     "output_type": "stream",
     "text": [
      "['animal_crossing', 'doom']\n",
      "1597\n",
      "461\n"
     ]
    }
   ],
   "source": [
    "root = \"AorD\"\n",
    "\n",
    "train_data = datasets.ImageFolder(os.path.join(root,\"train\"),transform=train_transform)\n",
    "test_data = datasets.ImageFolder(os.path.join(root,\"test\"),transform=test_transform)\n",
    "\n",
    "torch.manual_seed(42)\n",
    "\n",
    "train_loader = DataLoader(train_data , batch_size=10,shuffle=True,pin_memory=True)\n",
    "test_loader = DataLoader(test_data , batch_size=10,shuffle=False,pin_memory=True)\n",
    "\n",
    "class_names = train_data.classes\n",
    "\n",
    "print(class_names)\n",
    "print(len(train_data))\n",
    "print(len(test_data))\n"
   ]
  },
  {
   "cell_type": "code",
   "execution_count": 155,
   "metadata": {},
   "outputs": [],
   "source": [
    "## MODEL"
   ]
  },
  {
   "cell_type": "code",
   "execution_count": 180,
   "metadata": {},
   "outputs": [],
   "source": [
    "class cnn(nn.Module):\n",
    "    def __init__(self):\n",
    "        super().__init__()\n",
    "        self.conv1 = nn.Conv2d(3,6,3,1)\n",
    "        self.conv2 = nn.Conv2d(6,16,3,1)\n",
    "        self.conv3 = nn.Conv2d(16,32,3,1)\n",
    "        self.fc1 = nn.Linear(26*26*32,120)\n",
    "        self.d_out = nn.Dropout2d(p=0.3)\n",
    "        self.fc2 = nn.Linear(120,84)\n",
    "        self.out = nn.Linear(84,2)\n",
    "        \n",
    "    def forward(self,x):\n",
    "        x = F.relu(self.conv1(x))\n",
    "        x = F.max_pool2d(x,2,2)\n",
    "        x = F.relu(self.conv2(x))\n",
    "        x = F.max_pool2d(x,2,2)\n",
    "        x = F.relu(self.conv3(x))\n",
    "        x = F.max_pool2d(x,2,2)\n",
    "        x = x.view(-1,26*26*32)\n",
    "        x = F.relu(self.fc1(x))\n",
    "        x = self.d_out(x)\n",
    "        x = F.relu(self.fc2(x))\n",
    "        x = self.out(x)\n",
    "        \n",
    "        return F.log_softmax(x,dim=1)"
   ]
  },
  {
   "cell_type": "code",
   "execution_count": 181,
   "metadata": {},
   "outputs": [],
   "source": [
    "torch.manual_seed(42)\n",
    "model = cnn().cuda()"
   ]
  },
  {
   "cell_type": "code",
   "execution_count": 182,
   "metadata": {},
   "outputs": [],
   "source": [
    "criterion = nn.CrossEntropyLoss()\n",
    "optimizer = torch.optim.Adam(model.parameters(),lr=0.1)"
   ]
  },
  {
   "cell_type": "code",
   "execution_count": 183,
   "metadata": {},
   "outputs": [],
   "source": [
    "def count_parameters(model):\n",
    "    params = [p.numel() for p in model.parameters() if p.requires_grad]\n",
    "    for item in params:\n",
    "        print(f'{item:>8}')\n",
    "    print(f'________\\n{sum(params):>8}')"
   ]
  },
  {
   "cell_type": "code",
   "execution_count": 184,
   "metadata": {},
   "outputs": [
    {
     "name": "stdout",
     "output_type": "stream",
     "text": [
      "     162\n",
      "       6\n",
      "     864\n",
      "      16\n",
      "    4608\n",
      "      32\n",
      " 2595840\n",
      "     120\n",
      "   10080\n",
      "      84\n",
      "     168\n",
      "       2\n",
      "________\n",
      " 2611982\n"
     ]
    }
   ],
   "source": [
    "count_parameters(model)"
   ]
  },
  {
   "cell_type": "code",
   "execution_count": 185,
   "metadata": {},
   "outputs": [
    {
     "name": "stdout",
     "output_type": "stream",
     "text": [
      "epoch:  0  batch:   20 [   200/8000]  loss: 0.75721502  accuracy:  47.500%\n",
      "epoch:  0  batch:   40 [   400/8000]  loss: 0.79070294  accuracy:  50.000%\n",
      "epoch:  0  batch:   60 [   600/8000]  loss: 0.67974466  accuracy:  50.167%\n",
      "epoch:  0  batch:   80 [   800/8000]  loss: 0.70673496  accuracy:  50.500%\n",
      "epoch:  0  batch:  100 [  1000/8000]  loss: 0.67120403  accuracy:  50.300%\n",
      "epoch:  0  batch:  120 [  1200/8000]  loss: 0.67105019  accuracy:  50.417%\n",
      "epoch:  0  batch:  140 [  1400/8000]  loss: 0.68310380  accuracy:  50.786%\n",
      "epoch:  0  batch:  160 [  1600/8000]  loss: 0.67623681  accuracy:  51.375%\n",
      "epoch:  1  batch:   20 [   200/8000]  loss: 0.69832689  accuracy:  52.000%\n",
      "epoch:  1  batch:   40 [   400/8000]  loss: 0.69733071  accuracy:  50.750%\n",
      "epoch:  1  batch:   60 [   600/8000]  loss: 0.69321501  accuracy:  50.000%\n",
      "epoch:  1  batch:   80 [   800/8000]  loss: 0.64201891  accuracy:  51.625%\n",
      "epoch:  1  batch:  100 [  1000/8000]  loss: 0.79911608  accuracy:  52.400%\n",
      "epoch:  1  batch:  120 [  1200/8000]  loss: 0.69621289  accuracy:  52.833%\n",
      "epoch:  1  batch:  140 [  1400/8000]  loss: 0.77170449  accuracy:  51.714%\n",
      "epoch:  1  batch:  160 [  1600/8000]  loss: 0.71388721  accuracy:  51.688%\n",
      "epoch:  2  batch:   20 [   200/8000]  loss: 0.80223197  accuracy:  57.500%\n",
      "epoch:  2  batch:   40 [   400/8000]  loss: 0.69345367  accuracy:  57.250%\n",
      "epoch:  2  batch:   60 [   600/8000]  loss: 0.69172543  accuracy:  53.500%\n",
      "epoch:  2  batch:   80 [   800/8000]  loss: 0.68341517  accuracy:  53.500%\n",
      "epoch:  2  batch:  100 [  1000/8000]  loss: 0.70631403  accuracy:  52.900%\n",
      "epoch:  2  batch:  120 [  1200/8000]  loss: 0.70827931  accuracy:  51.917%\n",
      "epoch:  2  batch:  140 [  1400/8000]  loss: 0.64630592  accuracy:  52.000%\n",
      "epoch:  2  batch:  160 [  1600/8000]  loss: 0.68326622  accuracy:  51.812%\n",
      "epoch:  3  batch:   20 [   200/8000]  loss: 0.75276309  accuracy:  45.000%\n",
      "epoch:  3  batch:   40 [   400/8000]  loss: 0.67798465  accuracy:  49.500%\n",
      "epoch:  3  batch:   60 [   600/8000]  loss: 0.86704665  accuracy:  50.833%\n",
      "epoch:  3  batch:   80 [   800/8000]  loss: 0.70486414  accuracy:  49.375%\n",
      "epoch:  3  batch:  100 [  1000/8000]  loss: 0.70705205  accuracy:  48.500%\n",
      "epoch:  3  batch:  120 [  1200/8000]  loss: 0.63009834  accuracy:  48.583%\n",
      "epoch:  3  batch:  140 [  1400/8000]  loss: 0.71222937  accuracy:  48.786%\n",
      "epoch:  3  batch:  160 [  1600/8000]  loss: 0.63564271  accuracy:  48.750%\n",
      "\n",
      "Duration: 678 seconds\n"
     ]
    }
   ],
   "source": [
    "import time\n",
    "start_time = time.time()\n",
    "\n",
    "epochs = 4\n",
    "\n",
    "train_losses = []\n",
    "test_losses= []\n",
    "train_correct  = []\n",
    "test_correct = []\n",
    "\n",
    "for i in range(epochs):\n",
    "    \n",
    "    trn_corr = 0\n",
    "    tst_corr = 0\n",
    "    \n",
    "    for b, (X_train,y_train) in enumerate(train_loader):\n",
    "        \n",
    "        b+=1\n",
    "        X_train = X_train.cuda()\n",
    "        y_train = y_train.cuda()\n",
    "        \n",
    "        \n",
    "        y_pred = model(X_train)\n",
    "        loss = criterion(y_pred,y_train)\n",
    "        \n",
    "        \n",
    "        predicted = torch.max(y_pred.data,1)[1]\n",
    "        batch_corr = (predicted==y_train).sum()\n",
    "        trn_corr += batch_corr\n",
    "        \n",
    "        optimizer.zero_grad()\n",
    "        loss.backward()\n",
    "        optimizer.step()\n",
    "        \n",
    "        if b%20 == 0:\n",
    "            print(f'epoch: {i:2}  batch: {b:4} [{10*b:6}/8000]  loss: {loss.item():10.8f}  \\\n",
    "accuracy: {trn_corr.item()*100/(10*b):7.3f}%')\n",
    "\n",
    "    train_losses.append(loss)\n",
    "    train_correct.append(trn_corr)\n",
    "    \n",
    "    \n",
    "    with torch.no_grad():\n",
    "        \n",
    "        for b, (X_test,y_test) in enumerate(test_loader):\n",
    "            \n",
    "            X_test = X_test.cuda()\n",
    "            y_test = y_test.cuda()\n",
    "            \n",
    "            y_val = model(X_test)\n",
    "            loss = criterion(y_val,y_test)\n",
    "            \n",
    "            predicted = torch.max(y_val.data, 1)[1] \n",
    "            tst_corr += (predicted == y_test).sum()\n",
    "\n",
    "    loss = criterion(y_val, y_test)\n",
    "    test_losses.append(loss)\n",
    "    test_correct.append(tst_corr)\n",
    "\n",
    "print(f'\\nDuration: {time.time() - start_time:.0f} seconds') # print the time elapsed\n",
    "        "
   ]
  },
  {
   "cell_type": "code",
   "execution_count": 186,
   "metadata": {},
   "outputs": [
    {
     "data": {
      "image/png": "[encoded data removed]",
      "text/plain": [
       "<Figure size 432x288 with 1 Axes>"
      ]
     },
     "metadata": {
      "needs_background": "light"
     },
     "output_type": "display_data"
    }
   ],
   "source": [
    "plt.plot(train_losses, label='training loss')\n",
    "plt.plot(test_losses, label='validation loss')\n",
    "plt.title('Loss at the end of each epoch')\n",
    "plt.legend();"
   ]
  },
  {
   "cell_type": "code",
   "execution_count": 187,
   "metadata": {},
   "outputs": [],
   "source": [
    "###Alexnet"
   ]
  },
  {
   "cell_type": "code",
   "execution_count": 202,
   "metadata": {},
   "outputs": [],
   "source": [
    "alex = models.alexnet(pretrained=True)\n"
   ]
  },
  {
   "cell_type": "code",
   "execution_count": 203,
   "metadata": {},
   "outputs": [],
   "source": [
    "for param in alex.parameters():\n",
    "    param.requires_grad=False"
   ]
  },
  {
   "cell_type": "code",
   "execution_count": 204,
   "metadata": {},
   "outputs": [],
   "source": [
    "torch.manual_seed(42)\n",
    "alex.classifier = nn.Sequential(nn.Linear(9216, 1024),\n",
    "                                 nn.ReLU(),\n",
    "                                 nn.Dropout(0.4),\n",
    "                                 nn.Linear(1024, 2),\n",
    "                                 nn.LogSoftmax(dim=1))\n"
   ]
  },
  {
   "cell_type": "code",
   "execution_count": 205,
   "metadata": {},
   "outputs": [],
   "source": [
    "alex= alex.cuda()"
   ]
  },
  {
   "cell_type": "code",
   "execution_count": 207,
   "metadata": {},
   "outputs": [
    {
     "name": "stdout",
     "output_type": "stream",
     "text": [
      " 9437184\n",
      "    1024\n",
      "    2048\n",
      "       2\n",
      "________\n",
      " 9440258\n"
     ]
    }
   ],
   "source": [
    "count_parameters(alex)"
   ]
  },
  {
   "cell_type": "code",
   "execution_count": 208,
   "metadata": {},
   "outputs": [],
   "source": [
    "criterion = nn.CrossEntropyLoss()\n",
    "optimizer = torch.optim.Adam(alex.classifier.parameters(), lr=0.001)"
   ]
  },
  {
   "cell_type": "code",
   "execution_count": 209,
   "metadata": {},
   "outputs": [
    {
     "name": "stdout",
     "output_type": "stream",
     "text": [
      "epoch:  0  batch:   20 [   200/8000]  loss: 0.71269637  accuracy:  61.000%\n",
      "epoch:  0  batch:   40 [   400/8000]  loss: 0.18093708  accuracy:  68.500%\n",
      "epoch:  0  batch:   60 [   600/8000]  loss: 0.12811108  accuracy:  71.333%\n",
      "epoch:  0  batch:   80 [   800/8000]  loss: 0.69765729  accuracy:  73.000%\n",
      "epoch:  0  batch:  100 [  1000/8000]  loss: 0.26462787  accuracy:  75.100%\n",
      "epoch:  0  batch:  120 [  1200/8000]  loss: 0.19065423  accuracy:  76.417%\n",
      "epoch:  0  batch:  140 [  1400/8000]  loss: 0.20983148  accuracy:  76.500%\n",
      "epoch:  0  batch:  160 [  1600/8000]  loss: 0.35111877  accuracy:  77.062%\n",
      "epoch:  1  batch:   20 [   200/8000]  loss: 0.77068865  accuracy:  82.000%\n",
      "epoch:  1  batch:   40 [   400/8000]  loss: 0.11179534  accuracy:  86.500%\n",
      "epoch:  1  batch:   60 [   600/8000]  loss: 0.19747441  accuracy:  86.000%\n",
      "epoch:  1  batch:   80 [   800/8000]  loss: 0.44873041  accuracy:  85.750%\n",
      "epoch:  1  batch:  100 [  1000/8000]  loss: 0.15612909  accuracy:  86.000%\n",
      "epoch:  1  batch:  120 [  1200/8000]  loss: 0.53978670  accuracy:  85.833%\n",
      "epoch:  1  batch:  140 [  1400/8000]  loss: 0.19380108  accuracy:  85.714%\n",
      "epoch:  1  batch:  160 [  1600/8000]  loss: 0.11837816  accuracy:  85.125%\n",
      "epoch:  2  batch:   20 [   200/8000]  loss: 0.33385506  accuracy:  89.000%\n",
      "epoch:  2  batch:   40 [   400/8000]  loss: 0.42077437  accuracy:  87.500%\n",
      "epoch:  2  batch:   60 [   600/8000]  loss: 0.36493593  accuracy:  87.333%\n",
      "epoch:  2  batch:   80 [   800/8000]  loss: 0.07055881  accuracy:  87.000%\n",
      "epoch:  2  batch:  100 [  1000/8000]  loss: 0.14431360  accuracy:  87.900%\n",
      "epoch:  2  batch:  120 [  1200/8000]  loss: 0.20059586  accuracy:  88.000%\n",
      "epoch:  2  batch:  140 [  1400/8000]  loss: 0.21738863  accuracy:  87.714%\n",
      "epoch:  2  batch:  160 [  1600/8000]  loss: 0.03172494  accuracy:  86.875%\n",
      "epoch:  3  batch:   20 [   200/8000]  loss: 0.28000847  accuracy:  89.500%\n",
      "epoch:  3  batch:   40 [   400/8000]  loss: 0.39832288  accuracy:  87.750%\n",
      "epoch:  3  batch:   60 [   600/8000]  loss: 0.31880391  accuracy:  89.000%\n",
      "epoch:  3  batch:   80 [   800/8000]  loss: 0.40482116  accuracy:  88.625%\n",
      "epoch:  3  batch:  100 [  1000/8000]  loss: 0.14513703  accuracy:  88.900%\n",
      "epoch:  3  batch:  120 [  1200/8000]  loss: 0.46808702  accuracy:  89.250%\n",
      "epoch:  3  batch:  140 [  1400/8000]  loss: 0.25889525  accuracy:  88.571%\n",
      "epoch:  3  batch:  160 [  1600/8000]  loss: 0.10268860  accuracy:  88.375%\n",
      "\n",
      "Duration: 797 seconds\n"
     ]
    }
   ],
   "source": [
    "import time\n",
    "start_time = time.time()\n",
    "\n",
    "epochs = 4\n",
    "\n",
    "train_losses = []\n",
    "test_losses= []\n",
    "train_correct  = []\n",
    "test_correct = []\n",
    "\n",
    "for i in range(epochs):\n",
    "    \n",
    "    trn_corr = 0\n",
    "    tst_corr = 0\n",
    "    \n",
    "    for b, (X_train,y_train) in enumerate(train_loader):\n",
    "        \n",
    "        b+=1\n",
    "        X_train = X_train.cuda()\n",
    "        y_train = y_train.cuda()\n",
    "        \n",
    "        \n",
    "        y_pred = alex(X_train)\n",
    "        loss = criterion(y_pred,y_train)\n",
    "        \n",
    "        \n",
    "        predicted = torch.max(y_pred.data,1)[1]\n",
    "        batch_corr = (predicted==y_train).sum()\n",
    "        trn_corr += batch_corr\n",
    "        \n",
    "        optimizer.zero_grad()\n",
    "        loss.backward()\n",
    "        optimizer.step()\n",
    "        \n",
    "        if b%20 == 0:\n",
    "            print(f'epoch: {i:2}  batch: {b:4} [{10*b:6}/8000]  loss: {loss.item():10.8f}  \\\n",
    "accuracy: {trn_corr.item()*100/(10*b):7.3f}%')\n",
    "\n",
    "    train_losses.append(loss)\n",
    "    train_correct.append(trn_corr)\n",
    "    \n",
    "    \n",
    "    with torch.no_grad():\n",
    "        \n",
    "        for b, (X_test,y_test) in enumerate(test_loader):\n",
    "            \n",
    "            X_test = X_test.cuda()\n",
    "            y_test = y_test.cuda()\n",
    "            \n",
    "            y_val = alex(X_test)\n",
    "            loss = criterion(y_val,y_test)\n",
    "            \n",
    "            predicted = torch.max(y_val.data, 1)[1] \n",
    "            tst_corr += (predicted == y_test).sum()\n",
    "\n",
    "    loss = criterion(y_val, y_test)\n",
    "    test_losses.append(loss)\n",
    "    test_correct.append(tst_corr)\n",
    "\n",
    "print(f'\\nDuration: {time.time() - start_time:.0f} seconds') # print the time elapsed\n",
    "        "
   ]
  },
  {
   "cell_type": "code",
   "execution_count": 213,
   "metadata": {},
   "outputs": [
    {
     "name": "stdout",
     "output_type": "stream",
     "text": [
      "Test accuracy: 435/461 =  94.360%\n"
     ]
    }
   ],
   "source": [
    "# DON'T WRITE HERE\n",
    "alex.eval()\n",
    "\n",
    "with torch.no_grad():\n",
    "    correct = 0\n",
    "    for X_test, y_test in test_loader:\n",
    "        X_test =X_test.cuda()\n",
    "        y_test = y_test.cuda()\n",
    "        y_val = alex(X_test)\n",
    "        predicted = torch.max(y_val,1)[1]\n",
    "        correct += (predicted == y_test).sum()\n",
    "        \n",
    "print(f'Test accuracy: {correct.item()}/{len(test_data)} = {correct.item()*100/(len(test_data)):7.3f}%')"
   ]
  },
  {
   "cell_type": "code",
   "execution_count": 217,
   "metadata": {},
   "outputs": [],
   "source": [
    "import pickle\n",
    "alex = alex.cpu()\n",
    "with open(\"binary_list.bin\",\"wb\") as f:\n",
    "    pickle.dump(alex, f)\n"
   ]
  },
  {
   "cell_type": "code",
   "execution_count": null,
   "metadata": {},
   "outputs": [],
   "source": []
  }
 ],
 "metadata": {
  "kernelspec": {
   "display_name": "Python 3",
   "language": "python",
   "name": "python3"
  },
  "language_info": {
   "codemirror_mode": {
    "name": "ipython",
    "version": 3
   },
   "file_extension": ".py",
   "mimetype": "text/x-python",
   "name": "python",
   "nbconvert_exporter": "python",
   "pygments_lexer": "ipython3",
   "version": "3.7.6"
  }
 },
 "nbformat": 4,
 "nbformat_minor": 4
}
